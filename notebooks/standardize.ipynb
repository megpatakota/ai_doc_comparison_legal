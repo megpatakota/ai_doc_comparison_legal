{
 "cells": [
  {
   "cell_type": "code",
   "execution_count": 29,
   "metadata": {},
   "outputs": [],
   "source": [
    "import sys\n",
    "import os\n",
    "import json\n",
    "sys.path.append(\"..\")\n",
    "from src.file_io import load_from_json\n"
   ]
  },
  {
   "cell_type": "code",
   "execution_count": 31,
   "metadata": {},
   "outputs": [
    {
     "name": "stdout",
     "output_type": "stream",
     "text": [
      "✅ Loaded text from ../data/output/mapping/standardize_sections.json\n",
      "{\n",
      "  \"sections\": [\n",
      "    {\n",
      "      \"standardized_title\": \"Introduction\",\n",
      "      \"mappings\": [\n",
      "        {\"title\": \"TERMS AND CONDITIONS\", \"line_id\": \"0\", \"doc_id\": \"1\"},\n",
      "        {\"title\": \"INTRODUCTION TO OUR SERVICES\", \"line_id\": \"2\", \"doc_id\": \"2\"}\n",
      "      ]\n",
      "    },\n",
      "    {\n",
      "      \"standardized_title\": \"Payment and Refunds\",\n",
      "      \"mappings\": [\n",
      "        {\"title\": \"PAYMENTS, TAXES, AND REFUND POLICY\", \"line_id\": \"8\", \"doc_id\": \"1\"},\n",
      "        {\"title\": \"PAYMENTS, TAXES AND REFUNDS\", \"line_id\": \"5\", \"doc_id\": \"2\"}\n",
      "      ]\n",
      "    },\n",
      "    {\n",
      "      \"standardized_title\": \"User Responsibilities\",\n",
      "      \"mappings\": [\n",
      "        {\"title\": \"USER OBLIGATIONS\", \"line_id\": \"3\", \"doc_id\": \"1\"},\n",
      "        {\"title\": \"USER RESPONSIBILITIES\", \"line_id\": \"6\", \"doc_id\": \"2\"}\n",
      "      ]\n",
      "    },\n",
      "    {\n",
      "      \"standardized_title\": \"Privacy Policy\",\n",
      "      \"mappings\": [\n",
      "        {\"title\": \"PRIVACY AND DATA PROTECTION\", \"line_id\": \"4\", \"doc_id\": \"1\"},\n",
      "        {\"title\": \"DATA USAGE AND PRIVACY POLICY\", \"line_id\": \"4\", \"doc_id\": \"2\"}\n",
      "      ]\n",
      "    },\n",
      "    {\n",
      "      \"standardized_title\": \"Contact Information\",\n",
      "      \"mappings\": [\n",
      "        {\"title\": \"CONTACT US\", \"line_id\": \"7\", \"doc_id\": \"1\"},\n",
      "        {\"title\": \"GET IN TOUCH\", \"line_id\": \"7\", \"doc_id\": \"2\"}\n",
      "      ]\n",
      "    }\n",
      "  ]\n",
      "}\n"
     ]
    },
    {
     "data": {
      "text/plain": [
       "{'sections': [{'standardized_title': 'Introduction',\n",
       "   'mappings': [{'title': 'TERMS AND CONDITIONS',\n",
       "     'line_id': '0',\n",
       "     'doc_id': '1'},\n",
       "    {'title': 'INTRODUCTION TO OUR SERVICES', 'line_id': '2', 'doc_id': '2'}]},\n",
       "  {'standardized_title': 'Payment and Refunds',\n",
       "   'mappings': [{'title': 'PAYMENTS, TAXES, AND REFUND POLICY',\n",
       "     'line_id': '8',\n",
       "     'doc_id': '1'},\n",
       "    {'title': 'PAYMENTS, TAXES AND REFUNDS', 'line_id': '5', 'doc_id': '2'}]},\n",
       "  {'standardized_title': 'User Responsibilities',\n",
       "   'mappings': [{'title': 'USER OBLIGATIONS', 'line_id': '3', 'doc_id': '1'},\n",
       "    {'title': 'USER RESPONSIBILITIES', 'line_id': '6', 'doc_id': '2'}]},\n",
       "  {'standardized_title': 'Privacy Policy',\n",
       "   'mappings': [{'title': 'PRIVACY AND DATA PROTECTION',\n",
       "     'line_id': '4',\n",
       "     'doc_id': '1'},\n",
       "    {'title': 'DATA USAGE AND PRIVACY POLICY',\n",
       "     'line_id': '4',\n",
       "     'doc_id': '2'}]},\n",
       "  {'standardized_title': 'Contact Information',\n",
       "   'mappings': [{'title': 'CONTACT US', 'line_id': '7', 'doc_id': '1'},\n",
       "    {'title': 'GET IN TOUCH', 'line_id': '7', 'doc_id': '2'}]}]}"
      ]
     },
     "execution_count": 31,
     "metadata": {},
     "output_type": "execute_result"
    }
   ],
   "source": [
    "standardize_sections = load_from_json(\"../data/output/mapping/standardize_sections.json\")\n",
    "print(standardize_sections)\n",
    "data = json.loads(standardize_sections)\n",
    "data\n",
    "# doc_id_mappings = [\n",
    "#     mapping\n",
    "#     for section in data[\"sections\"]\n",
    "#     for mapping in section[\"mappings\"]\n",
    "#     if mapping[\"doc_id\"] == \"1\"\n",
    "# ]\n",
    "# doc_id_mappings"
   ]
  },
  {
   "cell_type": "code",
   "execution_count": 25,
   "metadata": {},
   "outputs": [
    {
     "name": "stdout",
     "output_type": "stream",
     "text": [
      "✅ Loaded text from ../data/output/mapping/standardize_sections.json\n"
     ]
    },
    {
     "data": {
      "text/plain": [
       "[{'title': 'INTRODUCTION TO OUR SERVICES',\n",
       "  'line_id': '2',\n",
       "  'doc_id': '2',\n",
       "  'line_ids_in_between': ['2', '3']},\n",
       " {'title': 'DATA USAGE AND PRIVACY POLICY',\n",
       "  'line_id': '4',\n",
       "  'doc_id': '2',\n",
       "  'line_ids_in_between': ['4']},\n",
       " {'title': 'PAYMENTS, TAXES AND REFUNDS',\n",
       "  'line_id': '5',\n",
       "  'doc_id': '2',\n",
       "  'line_ids_in_between': ['5']},\n",
       " {'title': 'USER RESPONSIBILITIES',\n",
       "  'line_id': '6',\n",
       "  'doc_id': '2',\n",
       "  'line_ids_in_between': ['6']},\n",
       " {'title': 'GET IN TOUCH',\n",
       "  'line_id': '7',\n",
       "  'doc_id': '2',\n",
       "  'line_ids_in_between': []}]"
      ]
     },
     "execution_count": 25,
     "metadata": {},
     "output_type": "execute_result"
    }
   ],
   "source": [
    "import json\n",
    "\n",
    "standardize_sections = load_from_json(\"../data/output/mapping/standardize_sections.json\")\n",
    "\n",
    "def add_line_ids_in_between(doc_id: str):\n",
    "    data = json.loads(standardize_sections)\n",
    "\n",
    "    doc_id_mappings = [\n",
    "        mapping\n",
    "        for section in data[\"sections\"]\n",
    "        for mapping in section[\"mappings\"]\n",
    "        if mapping[\"doc_id\"] == doc_id\n",
    "    ]\n",
    "\n",
    "    # First, sort the mappings by ascending order of line_id (converting the value to integer for sorting):\n",
    "    doc_id_mapping_sorted = sorted(doc_id_mappings, key=lambda x: int(x[\"line_id\"]))\n",
    "\n",
    "    # Now, iterate over the sorted list to add the 'line_ids_in_between' key:\n",
    "    for i in range(len(doc_id_mapping_sorted)):\n",
    "        current_line = int(doc_id_mapping_sorted[i][\"line_id\"])\n",
    "        if i < len(doc_id_mapping_sorted) - 1:\n",
    "            # The next mapping's line_id determines the end of the range.\n",
    "            next_line = int(doc_id_mapping_sorted[i + 1][\"line_id\"])\n",
    "            # Create a list of strings for all line_ids from the current value up to (but not including) next_line.\n",
    "            doc_id_mapping_sorted[i][\"line_ids_in_between\"] = [\n",
    "                str(j) for j in range(current_line, next_line)\n",
    "            ]\n",
    "        else:\n",
    "            # For the last mapping, you might assign an empty list or some other logic.\n",
    "            doc_id_mapping_sorted[i][\"line_ids_in_between\"] = []\n",
    "\n",
    "    return doc_id_mapping_sorted\n",
    "\n",
    "\n",
    "doc_id_1_mappings = add_line_ids_in_between(\"1\")\n",
    "doc_id_2_mappings = add_line_ids_in_between(\"2\")\n",
    "doc_id_2_mappings"
   ]
  },
  {
   "cell_type": "code",
   "execution_count": null,
   "metadata": {},
   "outputs": [],
   "source": []
  }
 ],
 "metadata": {
  "kernelspec": {
   "display_name": "ss-test-JIhLipdk-py3.12",
   "language": "python",
   "name": "python3"
  },
  "language_info": {
   "codemirror_mode": {
    "name": "ipython",
    "version": 3
   },
   "file_extension": ".py",
   "mimetype": "text/x-python",
   "name": "python",
   "nbconvert_exporter": "python",
   "pygments_lexer": "ipython3",
   "version": "3.12.7"
  }
 },
 "nbformat": 4,
 "nbformat_minor": 2
}
