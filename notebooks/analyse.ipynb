{
 "cells": [
  {
   "cell_type": "code",
   "execution_count": 34,
   "metadata": {},
   "outputs": [],
   "source": [
    "import sys\n",
    "import os\n",
    "sys.path.append('..')\n",
    "import json\n",
    "from src.file_io import load_sections, load_from_json"
   ]
  },
  {
   "cell_type": "code",
   "execution_count": 35,
   "metadata": {},
   "outputs": [
    {
     "name": "stdout",
     "output_type": "stream",
     "text": [
      "v1 sections: 39 v2 sections: 22 total: 61\n",
      "v1 titles: 39 v1 unique titles: 35\n",
      "v2 titles: 22 v2 unique titles: 22\n",
      "v1 non-unique titles: {'CONTENT SECURITY': 2, 'TERMINATION': 2, 'PRIVACY': 2, 'DISCLAIMER OF WARRANTIES; LIABILITY LIMITATIONS': 2}\n",
      "v2 non-unique titles: {}\n"
     ]
    }
   ],
   "source": [
    "v1_sections = load_sections('../data/output/v1_sections.json')\n",
    "v2_sections = load_sections('../data/output/v2_sections.json')\n",
    "print('v1 sections:', len(v1_sections), 'v2 sections:', len(v2_sections) , 'total:', len(v1_sections) + len(v2_sections))\n",
    "\n",
    "# is a title appearing more than once in each version?\n",
    "v1_titles = [section.title for section in v1_sections]\n",
    "v2_titles = [section.title for section in v2_sections]\n",
    "v1_titles_set = set(v1_titles)\n",
    "v2_titles_set = set(v2_titles)\n",
    "print('v1 titles:', len(v1_titles), 'v1 unique titles:', len(v1_titles_set))\n",
    "print('v2 titles:', len(v2_titles), 'v2 unique titles:', len(v2_titles_set)\n",
    ")\n",
    "# find the non-unique titles\n",
    "v1_titles_dict = {title: v1_titles.count(title) for title in v1_titles_set}\n",
    "v2_titles_dict = {title: v2_titles.count(title) for title in v2_titles_set}\n",
    "v1_non_unique_titles = {title: count for title, count in v1_titles_dict.items() if count > 1}\n",
    "v2_non_unique_titles = {title: count for title, count in v2_titles_dict.items() if count > 1}\n",
    "print('v1 non-unique titles:', v1_non_unique_titles)\n",
    "print('v2 non-unique titles:', v2_non_unique_titles)\n",
    "\n",
    "# combine the two sections\n",
    "sections = v1_sections + v2_sections\n",
    "sections = [section.__dict__ for section in sections]\n",
    "\n"
   ]
  },
  {
   "cell_type": "code",
   "execution_count": 36,
   "metadata": {},
   "outputs": [
    {
     "name": "stdout",
     "output_type": "stream",
     "text": [
      "✅ Loaded text from ../data/output/standardized_sections.json\n",
      "standard sections: 19\n",
      "total mappings: 41\n"
     ]
    }
   ],
   "source": [
    "standard_sections = load_from_json('../data/output/standardized_sections.json')\n",
    "print('standard sections:', len(standard_sections['sections']))\n",
    "# for section in standard_sections['sections']:\n",
    "#     print(f\"{section['standardized_title']} mappings count: {len(section['mappings'])}\")\n",
    "total_mappings = sum(len(section['mappings']) for section in standard_sections['sections'])\n",
    "print('total mappings:', sum(len(section['mappings']) for section in standard_sections['sections']))"
   ]
  },
  {
   "cell_type": "code",
   "execution_count": 39,
   "metadata": {},
   "outputs": [
    {
     "name": "stdout",
     "output_type": "stream",
     "text": [
      "unique titles only in sections: {'CONTENT SECURITY': 2, 'TERMINATION': 2, 'PRIVACY': 2, 'DISCLAIMER OF WARRANTIES; LIABILITY LIMITATIONS': 2}\n",
      "Titles in mappings but not in sections: set()\n"
     ]
    },
    {
     "data": {
      "text/plain": [
       "{'APP STORE PRODUCT USAGE RULES',\n",
       " 'AUTOMATIC DELIVERY AND DOWNLOADING PREVIOUS PURCHASES',\n",
       " 'AUTOMATIC DELIVERY OF UPDATES',\n",
       " 'CHANGES',\n",
       " 'DOWNLOADS',\n",
       " 'GIFTS',\n",
       " 'IBOOKS STORE PRODUCT USAGE RULES',\n",
       " 'IMPORTANT SAFETY INFORMATION',\n",
       " 'LICENSE OF APP STORE CONTENT',\n",
       " 'LICENSE OF IBOOKS STORE PRODUCTS',\n",
       " 'LICENSE OF MAC APP STORE AND APP STORE PRODUCTS',\n",
       " 'MAC APP STORE AND APP STORE PRODUCT MAINTENANCE AND SUPPORT',\n",
       " 'MAC APP STORE PRODUCT USAGE RULES',\n",
       " 'OBJECTIONABLE MATERIAL',\n",
       " 'REQUIREMENTS FOR USE OF THE STORES',\n",
       " 'STATUTORY EXCEPTIONS FOR PUBLIC INSTITUTIONS',\n",
       " 'STORE SECURITY',\n",
       " 'THIRD-PARTY MATERIALS',\n",
       " 'USAGE RULES',\n",
       " 'USE OF PRODUCTS AND THE STORES'}"
      ]
     },
     "execution_count": 39,
     "metadata": {},
     "output_type": "execute_result"
    }
   ],
   "source": [
    "# get all mappings\n",
    "mappings = []\n",
    "for section in standard_sections['sections']:\n",
    "    mappings.extend(section['mappings'])\n",
    "# Extract titles from sections and mappings\n",
    "section_titles = {section['title'] for section in sections}\n",
    "mapping_titles = {mapping['title'] for mapping in mappings}\n",
    "\n",
    "# Find differences\n",
    "titles_only_in_sections = section_titles - mapping_titles\n",
    "unique_tiles_only_in_sections = {title: count for title, count in v1_titles_dict.items() if count > 1}\n",
    "print('unique titles only in sections:', unique_tiles_only_in_sections)\n",
    "titles_only_in_mappings = mapping_titles - section_titles\n",
    "\n",
    "# Display results\n",
    "\n",
    "print(\"Titles in mappings but not in sections:\", titles_only_in_mappings)\n",
    "titles_only_in_sections\n"
   ]
  }
 ],
 "metadata": {
  "kernelspec": {
   "display_name": "ss-test-JIhLipdk-py3.12",
   "language": "python",
   "name": "python3"
  },
  "language_info": {
   "codemirror_mode": {
    "name": "ipython",
    "version": 3
   },
   "file_extension": ".py",
   "mimetype": "text/x-python",
   "name": "python",
   "nbconvert_exporter": "python",
   "pygments_lexer": "ipython3",
   "version": "3.12.7"
  }
 },
 "nbformat": 4,
 "nbformat_minor": 2
}
