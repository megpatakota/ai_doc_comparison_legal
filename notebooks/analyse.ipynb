{
 "cells": [
  {
   "cell_type": "code",
   "execution_count": 1,
   "metadata": {},
   "outputs": [],
   "source": [
    "import sys\n",
    "import os\n",
    "sys.path.append('..')\n",
    "import json\n",
    "from src.file_io import load_sections, load_from_json, load_txt"
   ]
  },
  {
   "cell_type": "code",
   "execution_count": 17,
   "metadata": {},
   "outputs": [
    {
     "name": "stdout",
     "output_type": "stream",
     "text": [
      "v1 sections: 40 v2 sections: 22 total: 62\n",
      "v1 titles: 40 v1 unique titles: 40\n",
      "v2 titles: 22 v2 unique titles: 22\n",
      "v1 non-unique titles: {}\n",
      "v2 non-unique titles: {}\n"
     ]
    }
   ],
   "source": [
    "v1_sections = load_sections('../data/output/v1_sections.json')\n",
    "v2_sections = load_sections('../data/output/v2_sections.json')\n",
    "print('v1 sections:', len(v1_sections), 'v2 sections:', len(v2_sections) , 'total:', len(v1_sections) + len(v2_sections))\n",
    "\n",
    "# is a title appearing more than once in each version?\n",
    "v1_titles = [section.title for section in v1_sections]\n",
    "v2_titles = [section.title for section in v2_sections]\n",
    "v1_titles_set = set(v1_titles)\n",
    "v2_titles_set = set(v2_titles)\n",
    "print('v1 titles:', len(v1_titles), 'v1 unique titles:', len(v1_titles_set))\n",
    "print('v2 titles:', len(v2_titles), 'v2 unique titles:', len(v2_titles_set)\n",
    ")\n",
    "# find the non-unique titles\n",
    "v1_titles_dict = {title: v1_titles.count(title) for title in v1_titles_set}\n",
    "v2_titles_dict = {title: v2_titles.count(title) for title in v2_titles_set}\n",
    "v1_non_unique_titles = {title: count for title, count in v1_titles_dict.items() if count > 1}\n",
    "v2_non_unique_titles = {title: count for title, count in v2_titles_dict.items() if count > 1}\n",
    "print('v1 non-unique titles:', v1_non_unique_titles)\n",
    "print('v2 non-unique titles:', v2_non_unique_titles)\n",
    "\n",
    "# combine the two sections\n",
    "sections = v1_sections + v2_sections\n",
    "sections = [section.__dict__ for section in sections]\n",
    "\n"
   ]
  },
  {
   "cell_type": "code",
   "execution_count": 2,
   "metadata": {},
   "outputs": [
    {
     "name": "stdout",
     "output_type": "stream",
     "text": [
      "✅ Loaded text from ../data/output/standardized_sections.json\n"
     ]
    }
   ],
   "source": [
    "standard_sections = load_from_json('../data/output/standardized_sections.json')\n"
   ]
  },
  {
   "cell_type": "code",
   "execution_count": 3,
   "metadata": {},
   "outputs": [
    {
     "data": {
      "text/plain": [
       "{'sections': [{'doc_a_section': {'title': 'A  INTRODUCTION TO OUR SERVICES',\n",
       "    'description': 'This section outlines the basic framework for using Apple Services, detailing what users can access, how to designate a home country, and the necessary requirements for using the services like hardware and software compatibility.',\n",
       "    'start_id': '2',\n",
       "    'end_id': '3',\n",
       "    'doc_id': '2'},\n",
       "   'reasoning': 'The introduction sections in both documents set the foundational understanding and framework for the services offered.',\n",
       "   'doc_b_sections': [{'title': 'TERMS AND CONDITIONS',\n",
       "     'description': 'Sets the foundational rules that govern the relationship between the user and the service provider, including acceptance of the agreement and its scope.',\n",
       "     'start_id': '0',\n",
       "     'end_id': '6',\n",
       "     'doc_id': '1'}],\n",
       "   'standardised_title': 'Introduction'},\n",
       "  {'doc_a_section': {'title': 'B  USING OUR SERVICES',\n",
       "    'description': 'Explains the policies surrounding the acquisition of content via transactions, how licenses are obtained, and details the process and terms for using various payment methods.',\n",
       "    'start_id': '4',\n",
       "    'end_id': '4',\n",
       "    'doc_id': '2'},\n",
       "   'reasoning': 'This section speaks about usage, acquisition, and transaction concepts, aligning with terms and conditions concerning sales.',\n",
       "   'doc_b_sections': [{'title': 'A ITUNES STORE, MAC APP STORE, APP STORE, AND IBOOKS STORE TERMS OF SALE',\n",
       "     'description': 'Details the terms related to purchasing, including payments, taxes, refund policies, rights of cancellation, and more for transactions through iTunes and other stores.',\n",
       "     'start_id': '7',\n",
       "     'end_id': '25',\n",
       "     'doc_id': '1'}],\n",
       "   'standardised_title': 'Using Our Services and Transactions'},\n",
       "  {'doc_a_section': {'title': 'PAYMENTS, TAXES AND REFUNDS',\n",
       "    'description': 'Discusses the transaction process for acquiring content, including payment methods, taxes, order cancellations, and refunds. It also covers various scenarios when transactions might need to be canceled or refunded.',\n",
       "    'start_id': '5',\n",
       "    'end_id': '22',\n",
       "    'doc_id': '2'},\n",
       "   'reasoning': 'Both sections extensively cover payment-related processes, taxes, refunds, and related policies.',\n",
       "   'doc_b_sections': [{'title': 'A ITUNES STORE, MAC APP STORE, APP STORE, AND IBOOKS STORE TERMS OF SALE',\n",
       "     'description': 'Details the terms related to purchasing, including payments, taxes, refund policies, rights of cancellation, and more for transactions through iTunes and other stores.',\n",
       "     'start_id': '7',\n",
       "     'end_id': '25',\n",
       "     'doc_id': '1'}],\n",
       "   'standardised_title': 'Payments, Taxes, and Refunds'},\n",
       "  {'doc_a_section': {'title': 'ACCOUNT',\n",
       "    'description': 'Details account usage for Apple Services, including the creation of Apple IDs, age requirements, and maintaining account security to prevent unauthorized access or use.',\n",
       "    'start_id': '23',\n",
       "    'end_id': '26',\n",
       "    'doc_id': '2'},\n",
       "   'reasoning': 'User accounts, security, and responsibilities are discussed in both sections, focusing on defining user responsibilities.',\n",
       "   'doc_b_sections': [{'title': 'YOUR ACCOUNT',\n",
       "     'description': 'Explains the responsibility of maintaining account security, importance of keeping information accurate, and how account data is used.',\n",
       "     'start_id': '55',\n",
       "     'end_id': '58',\n",
       "     'doc_id': '1'}],\n",
       "   'standardised_title': 'Account'},\n",
       "  {'doc_a_section': {'title': 'PRIVACY',\n",
       "    'description': \"Briefly references Apple's Privacy Policy, indicating the applicability of the Privacy Policy to all users of Apple's Services.\",\n",
       "    'start_id': '27',\n",
       "    'end_id': '28',\n",
       "    'doc_id': '2'},\n",
       "   'reasoning': \"Privacy sections in both documents cover information use and Apple's rights to user data information.\",\n",
       "   'doc_b_sections': [{'title': 'PRIVACY',\n",
       "     'description': \"Details Apple's privacy practices surrounding user data collected via features like Genius and explains how this data is leveraged for user benefits.\",\n",
       "     'start_id': '77',\n",
       "     'end_id': '87',\n",
       "     'doc_id': '1'}],\n",
       "   'standardised_title': 'Privacy'},\n",
       "  {'doc_a_section': {'title': 'SERVICES AND CONTENT USAGE RULES',\n",
       "    'description': 'Outlines permissible uses of Apple Services and Content, emphasizing rules against unauthorized usage, sharing, tampering, and maintaining integrity of play counts, downloads, and reviews.',\n",
       "    'start_id': '29',\n",
       "    'end_id': '40',\n",
       "    'doc_id': '2'},\n",
       "   'reasoning': 'Both sections define the limitations and rules on the use of services and highlight unauthorized activities.',\n",
       "   'doc_b_sections': [{'title': 'USAGE RULES',\n",
       "     'description': 'Defines specific rules governing the use of iTunes products, including personal use limitations and device restrictions.',\n",
       "     'start_id': '92',\n",
       "     'end_id': '105',\n",
       "     'doc_id': '1'}],\n",
       "   'standardised_title': 'Service and Content Usage Rules'},\n",
       "  {'doc_a_section': {'title': 'DOWNLOADS',\n",
       "    'description': 'Contains rules regarding downloading and re-downloading content, including limitations on download amounts and expiry of downloaded content.',\n",
       "    'start_id': '57',\n",
       "    'end_id': '60',\n",
       "    'doc_id': '2'},\n",
       "   'reasoning': 'Both address downloading services and re-downloading, focusing on rights and limitations regarding download links.',\n",
       "   'doc_b_sections': [{'title': 'AUTOMATIC DELIVERY AND DOWNLOADING PREVIOUS PURCHASES',\n",
       "     'description': 'Offers details for downloading purchased content on multiple devices, along with stipulations on device associations.',\n",
       "     'start_id': '59',\n",
       "     'end_id': '69',\n",
       "     'doc_id': '1'}],\n",
       "   'standardised_title': 'Downloads'},\n",
       "  {'doc_a_section': {'title': 'SUBSCRIPTIONS',\n",
       "    'description': 'Explains the terms for Paid Subscriptions, including automatic renewals, billing processes, and details on how to manage or cancel these subscriptions.',\n",
       "    'start_id': '61',\n",
       "    'end_id': '65',\n",
       "    'doc_id': '2'},\n",
       "   'reasoning': 'Both sections provide explicit details and guidelines regarding subscription services, cancellation, and billing.',\n",
       "   'doc_b_sections': [{'title': 'SEASON PASS, MULTI-PASS',\n",
       "     'description': 'Outlines terms related to purchasing Season Pass and Multi-Pass, including duration, renewal, and refund policies.',\n",
       "     'start_id': '116',\n",
       "     'end_id': '117',\n",
       "     'doc_id': '1'}],\n",
       "   'standardised_title': 'Subscriptions'},\n",
       "  {'doc_a_section': {'title': 'THIRD-PARTY DEVICES AND EQUIPMENT',\n",
       "    'description': 'Describes the limitations and conditions for using Apple Services on non-Apple devices and interacting with third-party equipment.',\n",
       "    'start_id': '68',\n",
       "    'end_id': '69',\n",
       "    'doc_id': '2'},\n",
       "   'reasoning': 'Both sections explore conditions governing the use of services on third-party devices or material.',\n",
       "   'doc_b_sections': [{'title': 'THIRD-PARTY MATERIALS',\n",
       "     'description': 'Discusses materials or services from third parties accessed via the service, releasing iTunes from liability regarding their accuracy or use.',\n",
       "     'start_id': '123',\n",
       "     'end_id': '124',\n",
       "     'doc_id': '1'}],\n",
       "   'standardised_title': 'Third-Party Devices and Equipment'},\n",
       "  {'doc_a_section': {'title': 'C  YOUR SUBMISSIONS TO OUR SERVICES',\n",
       "    'description': 'Discusses the guidelines for users submitting content like reviews or ratings to Apple Services and the licensing agreement with Apple for such submitted content.',\n",
       "    'start_id': '70',\n",
       "    'end_id': '81',\n",
       "    'doc_id': '2'},\n",
       "   'reasoning': 'Both sections address user submissions related to user-generated content, guidelines, and licensing conditions.',\n",
       "   'doc_b_sections': [{'title': 'SUBMISSIONS TO THE SERVICE',\n",
       "     'description': 'Covers user submissions to the service, describing rights, responsibilities, and permissions granted to iTunes for use of submitted content.',\n",
       "     'start_id': '120',\n",
       "     'end_id': '122',\n",
       "     'doc_id': '1'}],\n",
       "   'standardised_title': 'User Submissions'},\n",
       "  {'doc_a_section': {'title': 'D  FAMILY SHARING',\n",
       "    'description': 'Outlines the terms for Family Sharing, including how family members can share content, subscriptions, and the responsibilities of the Family organizer.',\n",
       "    'start_id': '82',\n",
       "    'end_id': '87',\n",
       "    'doc_id': '2'},\n",
       "   'reasoning': 'Family Sharing concepts are explored by detailing features allowing shared access, roles, permissions, and responsibilities of users.',\n",
       "   'doc_b_sections': [{'title': 'FAMILY SHARING',\n",
       "     'description': 'Explains the Family Sharing feature which allows shared access to store products among family members, including roles, permissions, and responsibilities.',\n",
       "     'start_id': '38',\n",
       "     'end_id': '43',\n",
       "     'doc_id': '1'}],\n",
       "   'standardised_title': 'Family Sharing'},\n",
       "  {'doc_a_section': {'title': 'E  SERIES PASS AND MULTI-PASS',\n",
       "    'description': 'Details about purchasing and receiving television content as it becomes available through series or multi-passes, including payment and availability terms.',\n",
       "    'start_id': '88',\n",
       "    'end_id': '89',\n",
       "    'doc_id': '2'},\n",
       "   'reasoning': 'Both sections cover purchasing and terms of passes that allow content accessing, including availability and renewal.',\n",
       "   'doc_b_sections': [{'title': 'SEASON PASS, MULTI-PASS',\n",
       "     'description': 'Outlines terms related to purchasing Season Pass and Multi-Pass, including duration, renewal, and refund policies.',\n",
       "     'start_id': '116',\n",
       "     'end_id': '117',\n",
       "     'doc_id': '1'}],\n",
       "   'standardised_title': 'Season and Multi-Pass'},\n",
       "  {'doc_a_section': {'title': 'F  ADDITIONAL APP STORE TERMS (EXCLUDING APPLE ARCADE APPS)',\n",
       "    'description': 'Describes licensing issues for App Store content, outlining the responsibilities and limitations for App Providers and Apple related to App Store transactions.',\n",
       "    'start_id': '90',\n",
       "    'end_id': '101',\n",
       "    'doc_id': '2'},\n",
       "   'reasoning': 'Both sections outline further details and terms specific to the App Store or product categories aligning with store functionality.',\n",
       "   'doc_b_sections': [{'title': 'FURTHER IBOOKS STORE TERMS AND CONDITIONS',\n",
       "     'description': 'Provides additional terms related to the use of iBooks Store Products, clarifying the licensing agreement between users and publishers rather than with the store itself.',\n",
       "     'start_id': '285',\n",
       "     'end_id': '285',\n",
       "     'doc_id': '1'}],\n",
       "   'standardised_title': 'Additional App Store Terms'},\n",
       "  {'doc_a_section': {'title': 'TERMINATION AND SUSPENSION OF SERVICES',\n",
       "    'description': 'Defines the conditions under which Apple can terminate or suspend user access to services, detailing liabilities and processes Apple may undertake if terms are violated.',\n",
       "    'start_id': '165',\n",
       "    'end_id': '167',\n",
       "    'doc_id': '2'},\n",
       "   'reasoning': 'Termination sections explain how and why access can be removed, detailing liabilities and processes when terms are broken.',\n",
       "   'doc_b_sections': [{'title': 'TERMINATION',\n",
       "     'description': 'Describes the conditions under which iTunes can terminate the agreement or user accounts, including events of breach.',\n",
       "     'start_id': '133',\n",
       "     'end_id': '135',\n",
       "     'doc_id': '1'}],\n",
       "   'standardised_title': 'Termination and Suspension'},\n",
       "  {'doc_a_section': {'title': 'DISCLAIMER OF WARRANTIES; LIABILITY LIMITATIONS',\n",
       "    'description': \"This section outlines the limitations and disclaimers of Apple's warranties related to the services, specifying conditions under which Apple is not liable for damages and the risks assumed by the user during service loss or errors.\",\n",
       "    'start_id': '168',\n",
       "    'end_id': '182',\n",
       "    'doc_id': '2'},\n",
       "   'reasoning': \"Both sections discuss limitations on liability and warranties, clarifying Apple's stance on being accountable for damages.\",\n",
       "   'doc_b_sections': [{'title': 'Limitation of Liability',\n",
       "     'description': 'Discusses the limitations placed on the liability of the Licensor, detailing conditions where the Licensor and its affiliates are not liable for damages, including specific breaches that may occur.',\n",
       "     'start_id': '274',\n",
       "     'end_id': '281',\n",
       "     'doc_id': '1'}],\n",
       "   'standardised_title': 'Disclaimer of Warranties and Liability Limitations'},\n",
       "  {'doc_a_section': {'title': 'STATUTORY EXCEPTIONS FOR PUBLIC INSTITUTIONS',\n",
       "    'description': 'Addresses institutions like public educational or government bodies, defining how certain contract terms may be invalid or unenforceable against them due to applicable laws, and how these terms should be construed.',\n",
       "    'start_id': '183',\n",
       "    'end_id': '183',\n",
       "    'doc_id': '2'},\n",
       "   'reasoning': 'Both sections fulfill the role of explaining statutory exceptions specific to public institutions, considering legal obligations.',\n",
       "   'doc_b_sections': [{'title': 'The Licensed Application and related documentation',\n",
       "     'description': 'Defines the Licensed Application as a Commercial Item under U.S. regulatory codes, specifying the rights granted to U.S. Government end-users and emphasizing the reservation of all unpublished rights under United States copyright laws.',\n",
       "     'start_id': '283',\n",
       "     'end_id': '283',\n",
       "     'doc_id': '1'}],\n",
       "   'standardised_title': 'Statutory Exceptions for Public Institutions'},\n",
       "  {'doc_a_section': {'title': 'GOVERNING LAW',\n",
       "    'description': \"Specifies the legal framework that governs the agreement, outlining the applicable laws, jurisdictions, and legal locations for resolving disputes depending on the user's geographical location.\",\n",
       "    'start_id': '185',\n",
       "    'end_id': '188',\n",
       "    'doc_id': '2'},\n",
       "   'reasoning': 'Specifies the laws governing the terms, domains, and conditions when jurisdiction becomes relevant for dispute resolutions.',\n",
       "   'doc_b_sections': [],\n",
       "   'standardised_title': 'Governing Law'},\n",
       "  {'doc_a_section': {'title': 'OTHER PROVISIONS',\n",
       "    'description': 'Covers additional aspects of the agreement, including the comprehensiveness of the agreement, conditions for enforcement and amendment, and compliance with applicable laws and regulations.',\n",
       "    'start_id': '189',\n",
       "    'end_id': '194',\n",
       "    'doc_id': '2'},\n",
       "   'reasoning': 'Sections encompass final clauses providing comprehensiveness, amendment stipulations, and overall compliance with laws.',\n",
       "   'doc_b_sections': [{'title': 'MISCELLANEOUS',\n",
       "     'description': 'Outlines the general provisions and stipulations not covered in other sections, and notes how the agreement supersedes prior ones.',\n",
       "     'start_id': '151',\n",
       "     'end_id': '155',\n",
       "     'doc_id': '1'}],\n",
       "   'standardised_title': 'Miscellaneous Provisions'}]}"
      ]
     },
     "execution_count": 3,
     "metadata": {},
     "output_type": "execute_result"
    }
   ],
   "source": [
    "standard_sections"
   ]
  },
  {
   "cell_type": "code",
   "execution_count": 7,
   "metadata": {},
   "outputs": [
    {
     "name": "stdout",
     "output_type": "stream",
     "text": [
      "✅ Loaded text from ../data/temp/v2.txt\n",
      "✅ Loaded text from ../data/temp/v1.txt\n"
     ]
    }
   ],
   "source": [
    "doc_a_id = standard_sections[\"sections\"][0][\"doc_a_section\"][\"doc_id\"]\n",
    "doc_a = load_txt(f\"../data/temp/v{doc_a_id}.txt\")\n",
    "\n",
    "if doc_a_id == \"1\":\n",
    "    doc_b_id = \"2\"\n",
    "else:\n",
    "    doc_b_id = \"1\"\n",
    "\n",
    "doc_b = load_txt(f\"../data/temp/v{doc_b_id}.txt\")"
   ]
  },
  {
   "cell_type": "code",
   "execution_count": 15,
   "metadata": {},
   "outputs": [],
   "source": [
    "doc_a_lines = [line.strip() for line in doc_a.split(\"</line_id>\")]\n",
    "doc_b_lines = [line.strip() for line in doc_b.split(\"</line_id>\")]"
   ]
  },
  {
   "cell_type": "code",
   "execution_count": 13,
   "metadata": {},
   "outputs": [
    {
     "data": {
      "text/plain": [
       "{'doc_a_section': {'title': 'A  INTRODUCTION TO OUR SERVICES',\n",
       "  'description': 'This section outlines the basic framework for using Apple Services, detailing what users can access, how to designate a home country, and the necessary requirements for using the services like hardware and software compatibility.',\n",
       "  'start_id': '2',\n",
       "  'end_id': '3',\n",
       "  'doc_id': '2'},\n",
       " 'reasoning': 'The introduction sections in both documents set the foundational understanding and framework for the services offered.',\n",
       " 'doc_b_sections': [{'title': 'TERMS AND CONDITIONS',\n",
       "   'description': 'Sets the foundational rules that govern the relationship between the user and the service provider, including acceptance of the agreement and its scope.',\n",
       "   'start_id': '0',\n",
       "   'end_id': '6',\n",
       "   'doc_id': '1'}],\n",
       " 'standardised_title': 'Introduction'}"
      ]
     },
     "execution_count": 13,
     "metadata": {},
     "output_type": "execute_result"
    }
   ],
   "source": [
    "standard_sections[\"sections\"][0]"
   ]
  },
  {
   "cell_type": "code",
   "execution_count": 14,
   "metadata": {},
   "outputs": [
    {
     "data": {
      "text/plain": [
       "['<line id=\"2\">A. INTRODUCTION TO OUR SERVICES',\n",
       " '<line id=\"3\">This Agreement governs your use of Apple’s Services (“Services” – e.g., and where available, App Store, Apple Arcade, Apple Books, Apple Fitness+, Apple Music, Apple News, Apple News+, Apple One, Apple Podcasts, Apple Podcasts Subscriptions, Apple TV, Apple TV+, Apple TV Channels, Game Center, iTunes), through which you can buy, get, license, rent or subscribe to content, Apps (as defined below), and other in-app services (collectively, “Content”). Content may be offered through the Services by Apple or a third party. Our Services are available for your use in your country or territory of residence (“Home Country”). By creating an account for use of the Services in a particular country or territory you are specifying it as your Home Country. To use our Services, you need compatible hardware, software (latest version recommended and sometimes required) and Internet access (fees may apply). Our Services’ performance may be affected by these factors.']"
      ]
     },
     "execution_count": 14,
     "metadata": {},
     "output_type": "execute_result"
    }
   ],
   "source": [
    "doc_a_lines[2:3+1]"
   ]
  },
  {
   "cell_type": "code",
   "execution_count": 28,
   "metadata": {},
   "outputs": [],
   "source": [
    "comparisons = []\n",
    "\n",
    "for section in standard_sections[\"sections\"]:\n",
    "    doc_a_section = section[\"doc_a_section\"]\n",
    "    text = f\"DOCUMENT A SECTIONS:\\n\"\n",
    "    text += f\"{doc_a_section['title']}\\n\"\n",
    "    text += f\"{'\\n'.join(doc_a_lines[int(doc_a_section[\"start_id\"]) : int(doc_a_section[\"end_id\"]) + 1])}\\n\\n\"\n",
    "    doc_b_sections = section[\"doc_b_sections\"]\n",
    "\n",
    "    text += f\"DOCUMENT B SECTIONS:\\n\"\n",
    "\n",
    "    for doc_b_section in doc_b_sections:\n",
    "        text += f\"{doc_b_section['title']}\\n {'\\n'.join(doc_b_lines[int(doc_b_section[\"start_id\"]) : int(doc_b_section[\"end_id\"]) + 1])}\\n\\n\"\n",
    "\n",
    "    comparisons.append(text)\n",
    "\n",
    "    break"
   ]
  },
  {
   "cell_type": "code",
   "execution_count": 29,
   "metadata": {},
   "outputs": [
    {
     "name": "stdout",
     "output_type": "stream",
     "text": [
      "DOCUMENT A SECTIONS:\n",
      "A  INTRODUCTION TO OUR SERVICES\n",
      "<line id=\"2\">A. INTRODUCTION TO OUR SERVICES\n",
      "<line id=\"3\">This Agreement governs your use of Apple’s Services (“Services” – e.g., and where available, App Store, Apple Arcade, Apple Books, Apple Fitness+, Apple Music, Apple News, Apple News+, Apple One, Apple Podcasts, Apple Podcasts Subscriptions, Apple TV, Apple TV+, Apple TV Channels, Game Center, iTunes), through which you can buy, get, license, rent or subscribe to content, Apps (as defined below), and other in-app services (collectively, “Content”). Content may be offered through the Services by Apple or a third party. Our Services are available for your use in your country or territory of residence (“Home Country”). By creating an account for use of the Services in a particular country or territory you are specifying it as your Home Country. To use our Services, you need compatible hardware, software (latest version recommended and sometimes required) and Internet access (fees may apply). Our Services’ performance may be affected by these factors.\n",
      "\n",
      "DOCUMENT B SECTIONS:\n",
      "TERMS AND CONDITIONS\n",
      " <line id=\"0\">TERMS AND CONDITIONS\n",
      "<line id=\"1\">A. ITUNES STORE, MAC APP STORE, APP STORE, AND IBOOKS STORE TERMS OF SALE\n",
      "<line id=\"2\">B. ITUNES STORE TERMS AND CONDITIONS\n",
      "<line id=\"3\">C. MAC APP STORE, APP STORE AND IBOOKS STORE TERMS AND CONDITIONS\n",
      "<line id=\"4\">\n",
      "<line id=\"5\">THE LEGAL AGREEMENTS SET OUT BELOW ARE BETWEEN YOU AND ITUNES SARL (“ITUNES\") AND GOVERN YOUR USE OF THE ITUNES STORE, MAC APP STORE, APP STORE AND IBOOKS STORE (THE “STORES”). TO AGREE TO THESE TERMS, CLICK \"AGREE.\" IF YOU DO NOT AGREE TO THESE TERMS, DO NOT CLICK \"AGREE,\" AND DO NOT USE THE ITUNES STORE, MAC APP STORE, APP STORE OR IBOOKS STORE. THIS AGREEMENT APPLIES WITHOUT PREJUDICE TO SOFTWARE LICENCES THAT YOU MAY HAVE ENTERED INTO, SUCH AS FOR THE USE OF THE ITUNES APPLICATION.\n",
      "<line id=\"6\">FOR MORE INFORMATION ABOUT OUR PRODUCTS AND SERVICES, PLEASE VISIT http://www.apple.com/support/.\n",
      "\n",
      "\n"
     ]
    }
   ],
   "source": [
    "print(comparisons[0])"
   ]
  },
  {
   "cell_type": "code",
   "execution_count": null,
   "metadata": {},
   "outputs": [],
   "source": []
  }
 ],
 "metadata": {
  "kernelspec": {
   "display_name": "ss-test-JIhLipdk-py3.12",
   "language": "python",
   "name": "python3"
  },
  "language_info": {
   "codemirror_mode": {
    "name": "ipython",
    "version": 3
   },
   "file_extension": ".py",
   "mimetype": "text/x-python",
   "name": "python",
   "nbconvert_exporter": "python",
   "pygments_lexer": "ipython3",
   "version": "3.12.7"
  }
 },
 "nbformat": 4,
 "nbformat_minor": 2
}
