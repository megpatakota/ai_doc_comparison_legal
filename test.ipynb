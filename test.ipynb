{
 "cells": [
  {
   "cell_type": "code",
   "execution_count": 14,
   "metadata": {},
   "outputs": [],
   "source": [
    "from litellm import completion\n",
    "import os\n",
    "import docx\n",
    "import json\n",
    "from dotenv import load_dotenv\n",
    "import jinja2\n",
    "import pandas as pd\n",
    "import re\n",
    "load_dotenv()\n",
    "\n",
    "GEMINI_API_KEY = os.getenv(\"GEMINI_API_KEY\")\n",
    "OPENAI_API_KEY = os.getenv(\"OPENAI_API_KEY\")"
   ]
  },
  {
   "cell_type": "code",
   "execution_count": 12,
   "metadata": {},
   "outputs": [
    {
     "name": "stdout",
     "output_type": "stream",
     "text": [
      "v1 tokens: 20532.0, v2 tokens: 11181.333333333334\n"
     ]
    }
   ],
   "source": [
    "def extract_text_from_docx(file_path):\n",
    "    doc = docx.Document(file_path)\n",
    "    text = \"\\n\".join([para.text for para in doc.paragraphs if para.text.strip()])\n",
    "    return text\n",
    "\n",
    "v1 = extract_text_from_docx('data/v1.docx')\n",
    "v2 = extract_text_from_docx('data/v2.docx')\n",
    "\n",
    "# count number of tokens in each version\n",
    "v1_tokens = len(v1.split())/0.75\n",
    "v2_tokens = len(v2.split())/0.75\n",
    "print(f\"v1 tokens: {v1_tokens}, v2 tokens: {v2_tokens}\")"
   ]
  },
  {
   "cell_type": "code",
   "execution_count": null,
   "metadata": {},
   "outputs": [],
   "source": [
    "# load prompt from jinja2 template\n",
    "with open('templates/system_prompt.jinja2') as f:\n",
    "    system_prompt = jinja2.Template(f.read()).render(v1=v1, v2=v2)\n",
    "\n",
    "response = completion(\n",
    "    model=\"gpt-4o-mini\",  # Gemini model = gemini/gemini-1.5-pro\n",
    "    messages=[{\"role\": \"user\", \"content\": system_prompt}],\n",
    "\n",
    ")\n",
    "response = response.choices[0].message.content"
   ]
  },
  {
   "cell_type": "code",
   "execution_count": 18,
   "metadata": {},
   "outputs": [
    {
     "name": "stdout",
     "output_type": "stream",
     "text": [
      "Here is the detailed analysis and recommendations based on the comparison between the two versions of Apple's Terms & Conditions for Apple Music.\n",
      "\n",
      "### 1. Key Differences Analysis\n",
      "\n",
      "| **Change Type**          | **Section**                                   | **Old Text**                                                                                                                       | **New Text**                                                                                                                     |\n",
      "|--------------------------|-----------------------------------------------|------------------------------------------------------------------------------------------------------------------------------------|------------------------------------------------------------------------------------------------------------------------------|\n",
      "| **Substantive Change**   | Introduction to Services                      | \"By creating an account for use of the Services in a particular country or territory you are specifying it as your Home Country.\" | \"By creating an account for use of the Services in a particular country or territory you specify it as your Home Country.\"   |\n",
      "| **Substantive Change**   | Payments and Billing                          | \"When you make your first Transaction, we will ask you to choose how frequently we should ask for your password.\"                 | \"When you make your first Transaction, we will ask how frequently to ask for your password for Transactions.\"                 |\n",
      "| **Clarification**        | Right of Cancellation                         | \"If you choose to cancel your order...\"                                                                                          | \"If you wish to cancel your order...\"                                                                                          |\n",
      "| **Structural Change**    | Reordering of Sections                        | Original sections A, B, C.                                                                                                       | New structure consolidates into a singular 'Services' section.                                                                |\n",
      "| **Clarification**        | Family Sharing                                | \"A parent or legal guardian who is creating an account...\"                                                                         | \"A parent or legal guardian creating an account...\"                                                                           |\n",
      "| **Substantive Change**   | Usage Rules                                  | \"You can only belong to one Family at a time...\"                                                                                  | \"You can only be part of one Family...\"                                                                                        |\n",
      "| **Clarification**        | Account creation and age                      | \"Only persons aged 13 years or older can create accounts.\"                                                                        | \"You must be age 13 (or equivalent minimum age in your Home Country) to create an account.\"                                   |\n",
      "\n",
      "### 2. Impact Assessment\n",
      "\n",
      "- **Categorization:** \n",
      "  - Substantive changes predominantly influence the obligations regarding account creation, payment handling, and cancellation rights.\n",
      "  - Clarifications mainly improve the readability and remove redundancy without changing the underlying meaning.\n",
      "  - Structural changes reorganize content for better navigation but do not inherently change legal obligations.\n",
      "\n",
      "- **Legal Implications:**\n",
      "  - The changes related to the Home Country and account creation criteria might subtly affect the obligations for users in specific regions.\n",
      "  - Payment and cancellation clauses could impact legal responsibilities and the options available for users, which is critical in compliance with regional consumer protection laws.\n",
      "\n",
      "- **Actionability:**\n",
      "  - Sections detailing cancellation rights and user obligations should be reviewed for regional compliance, particularly where consumer protection laws may differ.\n",
      "  - It would benefit from consulting with legal counsel to clarify the implications of changing the execution of user rights under the new format.\n",
      "\n",
      "### 3. Recommendations for Standardization\n",
      "\n",
      "- **Wording & Formatting:**\n",
      "  - Ensure consistent terminology for legal terms (e.g., \"Transaction\", \"Content\") across all documents.\n",
      "  - Adopt uniform phrasing to denote action thresholds (e.g., using \"must\" for obligations, and \"may\" for permissive actions uniformly).\n",
      "\n",
      "- **Best Practices:**\n",
      "  - Encourage the use of simpler language where possible to ensure better user understanding.\n",
      "  - Regularly review and validate sections that directly affect user rights, ensuring they comply with updated regional laws and consumer rights.\n",
      "\n",
      "- **Future Updates:**\n",
      "  - Aim for a consistent structure in future revisions that allows easy navigation through critical user rights and obligations.\n",
      "  - Consider maintaining a \"Summary of Changes\" at the beginning of future versions for easy comparison.\n",
      "  - Implement a standardized format for user notifications regarding changes, such as clear engagement strategies for locating altered sections.\n",
      "\n",
      "### 4. Structured JSON Output\n",
      "\n",
      "```json\n",
      "{\n",
      "    \"substantive_changes\": [\n",
      "        {\n",
      "            \"section\": \"Introduction\",\n",
      "            \"old_text\": \"By creating an account for use of the Services in a particular country or territory you are specifying it as your Home Country.\",\n",
      "            \"new_text\": \"By creating an account for use of the Services in a particular country or territory you specify it as your Home Country.\",\n",
      "            \"impact\": \"Clarifies user responsibility for declaring their Home Country.\"\n",
      "        },\n",
      "        {\n",
      "            \"section\": \"Payments and Refunds\",\n",
      "            \"old_text\": \"When you make your first Transaction, we will ask you to choose how frequently we should ask for your password for future Transactions.\",\n",
      "            \"new_text\": \"When you make your first Transaction, we will ask how frequently to ask for your password for Transactions.\",\n",
      "            \"impact\": \"Shortens and clarifies the process regarding password security.\"\n",
      "        },\n",
      "        {\n",
      "            \"section\": \"Family Sharing\",\n",
      "            \"old_text\": \"A parent or legal guardian who is creating an account for a minor...\",\n",
      "            \"new_text\": \"A parent or legal guardian creating an account for a minor...\",\n",
      "            \"impact\": \"Improves readability while retaining meaning.\"\n",
      "        }\n",
      "    ],\n",
      "    \"clarifications\": [\n",
      "        {\n",
      "            \"section\": \"Right of Cancellation\",\n",
      "            \"old_text\": \"If you choose to cancel your order...\",\n",
      "            \"new_text\": \"If you wish to cancel your order...\",\n",
      "            \"impact\": \"Improves readability.\"\n",
      "        }\n",
      "    ],\n",
      "    \"structural_changes\": [\n",
      "        {\n",
      "            \"section\": \"Overall Structure\",\n",
      "            \"change\": \"The old version had three distinct sections while the new version consolidates content into a unified structure.\",\n",
      "            \"impact\": \"Improves organization and navigability of the document.\"\n",
      "        }\n",
      "    ],\n",
      "    \"impact_commentary\": \"The various changes introduced in the new version mostly improve clarity and usability. However, substantive changes related directly to user rights such as cancellation and account creation will require review against local laws.\",\n",
      "    \"standardization_suggestions\": \"Adopt consistent terminology, plain language where appropriate, and ensure legal compliance through regular reviews. Recommended to include a summary of changes for user clarity.\"\n",
      "}\n",
      "```\n"
     ]
    }
   ],
   "source": [
    "print(response)"
   ]
  },
  {
   "cell_type": "code",
   "execution_count": 21,
   "metadata": {},
   "outputs": [
    {
     "name": "stdout",
     "output_type": "stream",
     "text": [
      "\n",
      "\n",
      "| **Change Type**          | **Section**                                   | **Old Text**                                                                                                                       | **New Text**                                                                                                                     |\n",
      "|--------------------------|-----------------------------------------------|------------------------------------------------------------------------------------------------------------------------------------|------------------------------------------------------------------------------------------------------------------------------|\n",
      "| **Substantive Change**   | Introduction to Services                      | \"By creating an account for use of the Services in a particular country or territory you are specifying it as your Home Country.\" | \"By creating an account for use of the Services in a particular country or territory you specify it as your Home Country.\"   |\n",
      "| **Substantive Change**   | Payments and Billing                          | \"When you make your first Transaction, we will ask you to choose how frequently we should ask for your password.\"                 | \"When you make your first Transaction, we will ask how frequently to ask for your password for Transactions.\"                 |\n",
      "| **Clarification**        | Right of Cancellation                         | \"If you choose to cancel your order...\"                                                                                          | \"If you wish to cancel your order...\"                                                                                          |\n",
      "| **Structural Change**    | Reordering of Sections                        | Original sections A, B, C.                                                                                                       | New structure consolidates into a singular 'Services' section.                                                                |\n",
      "| **Clarification**        | Family Sharing                                | \"A parent or legal guardian who is creating an account...\"                                                                         | \"A parent or legal guardian creating an account...\"                                                                           |\n",
      "| **Substantive Change**   | Usage Rules                                  | \"You can only belong to one Family at a time...\"                                                                                  | \"You can only be part of one Family...\"                                                                                        |\n",
      "| **Clarification**        | Account creation and age                      | \"Only persons aged 13 years or older can create accounts.\"                                                                        | \"You must be age 13 (or equivalent minimum age in your Home Country) to create an account.\"                                   |\n",
      "\n",
      "#\n"
     ]
    },
    {
     "ename": "KeyError",
     "evalue": "'Change Type'",
     "output_type": "error",
     "traceback": [
      "\u001b[31m---------------------------------------------------------------------------\u001b[39m",
      "\u001b[31mKeyError\u001b[39m                                  Traceback (most recent call last)",
      "\u001b[36mFile \u001b[39m\u001b[32m~/Library/Caches/pypoetry/virtualenvs/ss-test-JIhLipdk-py3.12/lib/python3.12/site-packages/pandas/core/indexes/base.py:3805\u001b[39m, in \u001b[36mIndex.get_loc\u001b[39m\u001b[34m(self, key)\u001b[39m\n\u001b[32m   3804\u001b[39m \u001b[38;5;28;01mtry\u001b[39;00m:\n\u001b[32m-> \u001b[39m\u001b[32m3805\u001b[39m     \u001b[38;5;28;01mreturn\u001b[39;00m \u001b[38;5;28;43mself\u001b[39;49m\u001b[43m.\u001b[49m\u001b[43m_engine\u001b[49m\u001b[43m.\u001b[49m\u001b[43mget_loc\u001b[49m\u001b[43m(\u001b[49m\u001b[43mcasted_key\u001b[49m\u001b[43m)\u001b[49m\n\u001b[32m   3806\u001b[39m \u001b[38;5;28;01mexcept\u001b[39;00m \u001b[38;5;167;01mKeyError\u001b[39;00m \u001b[38;5;28;01mas\u001b[39;00m err:\n",
      "\u001b[36mFile \u001b[39m\u001b[32mindex.pyx:167\u001b[39m, in \u001b[36mpandas._libs.index.IndexEngine.get_loc\u001b[39m\u001b[34m()\u001b[39m\n",
      "\u001b[36mFile \u001b[39m\u001b[32mindex.pyx:196\u001b[39m, in \u001b[36mpandas._libs.index.IndexEngine.get_loc\u001b[39m\u001b[34m()\u001b[39m\n",
      "\u001b[36mFile \u001b[39m\u001b[32mpandas/_libs/hashtable_class_helper.pxi:7081\u001b[39m, in \u001b[36mpandas._libs.hashtable.PyObjectHashTable.get_item\u001b[39m\u001b[34m()\u001b[39m\n",
      "\u001b[36mFile \u001b[39m\u001b[32mpandas/_libs/hashtable_class_helper.pxi:7089\u001b[39m, in \u001b[36mpandas._libs.hashtable.PyObjectHashTable.get_item\u001b[39m\u001b[34m()\u001b[39m\n",
      "\u001b[31mKeyError\u001b[39m: 'Change Type'",
      "\nThe above exception was the direct cause of the following exception:\n",
      "\u001b[31mKeyError\u001b[39m                                  Traceback (most recent call last)",
      "\u001b[36mCell\u001b[39m\u001b[36m \u001b[39m\u001b[32mIn[21]\u001b[39m\u001b[32m, line 20\u001b[39m\n\u001b[32m     17\u001b[39m df = pd.DataFrame(clean_table[\u001b[32m1\u001b[39m:], columns=clean_table[\u001b[32m0\u001b[39m])  \u001b[38;5;66;03m# First row as headers\u001b[39;00m\n\u001b[32m     19\u001b[39m \u001b[38;5;66;03m# Propagate category values downward to fill missing entries\u001b[39;00m\n\u001b[32m---> \u001b[39m\u001b[32m20\u001b[39m df[\u001b[33m\"\u001b[39m\u001b[33mChange Type\u001b[39m\u001b[33m\"\u001b[39m] = \u001b[43mdf\u001b[49m\u001b[43m[\u001b[49m\u001b[33;43m\"\u001b[39;49m\u001b[33;43mChange Type\u001b[39;49m\u001b[33;43m\"\u001b[39;49m\u001b[43m]\u001b[49m.replace(\u001b[33m\"\u001b[39m\u001b[33m\"\u001b[39m, \u001b[38;5;28;01mNone\u001b[39;00m).ffill()\n\u001b[32m     21\u001b[39m df\n",
      "\u001b[36mFile \u001b[39m\u001b[32m~/Library/Caches/pypoetry/virtualenvs/ss-test-JIhLipdk-py3.12/lib/python3.12/site-packages/pandas/core/frame.py:4102\u001b[39m, in \u001b[36mDataFrame.__getitem__\u001b[39m\u001b[34m(self, key)\u001b[39m\n\u001b[32m   4100\u001b[39m \u001b[38;5;28;01mif\u001b[39;00m \u001b[38;5;28mself\u001b[39m.columns.nlevels > \u001b[32m1\u001b[39m:\n\u001b[32m   4101\u001b[39m     \u001b[38;5;28;01mreturn\u001b[39;00m \u001b[38;5;28mself\u001b[39m._getitem_multilevel(key)\n\u001b[32m-> \u001b[39m\u001b[32m4102\u001b[39m indexer = \u001b[38;5;28;43mself\u001b[39;49m\u001b[43m.\u001b[49m\u001b[43mcolumns\u001b[49m\u001b[43m.\u001b[49m\u001b[43mget_loc\u001b[49m\u001b[43m(\u001b[49m\u001b[43mkey\u001b[49m\u001b[43m)\u001b[49m\n\u001b[32m   4103\u001b[39m \u001b[38;5;28;01mif\u001b[39;00m is_integer(indexer):\n\u001b[32m   4104\u001b[39m     indexer = [indexer]\n",
      "\u001b[36mFile \u001b[39m\u001b[32m~/Library/Caches/pypoetry/virtualenvs/ss-test-JIhLipdk-py3.12/lib/python3.12/site-packages/pandas/core/indexes/base.py:3812\u001b[39m, in \u001b[36mIndex.get_loc\u001b[39m\u001b[34m(self, key)\u001b[39m\n\u001b[32m   3807\u001b[39m     \u001b[38;5;28;01mif\u001b[39;00m \u001b[38;5;28misinstance\u001b[39m(casted_key, \u001b[38;5;28mslice\u001b[39m) \u001b[38;5;129;01mor\u001b[39;00m (\n\u001b[32m   3808\u001b[39m         \u001b[38;5;28misinstance\u001b[39m(casted_key, abc.Iterable)\n\u001b[32m   3809\u001b[39m         \u001b[38;5;129;01mand\u001b[39;00m \u001b[38;5;28many\u001b[39m(\u001b[38;5;28misinstance\u001b[39m(x, \u001b[38;5;28mslice\u001b[39m) \u001b[38;5;28;01mfor\u001b[39;00m x \u001b[38;5;129;01min\u001b[39;00m casted_key)\n\u001b[32m   3810\u001b[39m     ):\n\u001b[32m   3811\u001b[39m         \u001b[38;5;28;01mraise\u001b[39;00m InvalidIndexError(key)\n\u001b[32m-> \u001b[39m\u001b[32m3812\u001b[39m     \u001b[38;5;28;01mraise\u001b[39;00m \u001b[38;5;167;01mKeyError\u001b[39;00m(key) \u001b[38;5;28;01mfrom\u001b[39;00m\u001b[38;5;250m \u001b[39m\u001b[34;01merr\u001b[39;00m\n\u001b[32m   3813\u001b[39m \u001b[38;5;28;01mexcept\u001b[39;00m \u001b[38;5;167;01mTypeError\u001b[39;00m:\n\u001b[32m   3814\u001b[39m     \u001b[38;5;66;03m# If we have a listlike key, _check_indexing_error will raise\u001b[39;00m\n\u001b[32m   3815\u001b[39m     \u001b[38;5;66;03m#  InvalidIndexError. Otherwise we fall through and re-raise\u001b[39;00m\n\u001b[32m   3816\u001b[39m     \u001b[38;5;66;03m#  the TypeError.\u001b[39;00m\n\u001b[32m   3817\u001b[39m     \u001b[38;5;28mself\u001b[39m._check_indexing_error(key)\n",
      "\u001b[31mKeyError\u001b[39m: 'Change Type'"
     ]
    }
   ],
   "source": [
    "# Extract the table portion from the response\n",
    "table_text = response.split(\"## 1. Key Differences Analysis\")[1].split(\"## 2. Impact Assessment\")[0]\n",
    "\n",
    "# Extract rows from the Markdown table\n",
    "rows = table_text.strip().split(\"\\n\")\n",
    "\n",
    "# Filter only the rows that contain actual table data (skip headers and separators)\n",
    "table_data = [row.split(\"|\")[1:-1] for row in rows if \"|\" in row and \"---\" not in row]\n",
    "\n",
    "# Remove leading and trailing whitespace from each cell\n",
    "clean_table = [[cell.strip() for cell in row] for row in table_data]\n",
    "\n",
    "# Ensure all rows have exactly 5 columns\n",
    "clean_table = [row if len(row) == 5 else row + [\"\"] * (5 - len(row)) for row in clean_table]\n",
    "\n",
    "# Create a DataFrame\n",
    "df = pd.DataFrame(clean_table[1:], columns=clean_table[0])  # First row as headers\n",
    "\n",
    "# Propagate category values downward to fill missing entries\n",
    "df[\"Category\"] = df[\"Category\"].replace(\"\", None).ffill()\n",
    "df\n"
   ]
  },
  {
   "cell_type": "code",
   "execution_count": null,
   "metadata": {},
   "outputs": [],
   "source": []
  }
 ],
 "metadata": {
  "kernelspec": {
   "display_name": "ss-test-JIhLipdk-py3.12",
   "language": "python",
   "name": "python3"
  },
  "language_info": {
   "codemirror_mode": {
    "name": "ipython",
    "version": 3
   },
   "file_extension": ".py",
   "mimetype": "text/x-python",
   "name": "python",
   "nbconvert_exporter": "python",
   "pygments_lexer": "ipython3",
   "version": "3.12.7"
  }
 },
 "nbformat": 4,
 "nbformat_minor": 2
}
